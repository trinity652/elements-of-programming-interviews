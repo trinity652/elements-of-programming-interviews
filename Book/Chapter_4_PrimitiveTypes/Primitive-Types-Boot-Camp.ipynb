{
 "cells": [
  {
   "cell_type": "markdown",
   "metadata": {},
   "source": [
    "In Python, everything is an object. This includes Booleans, characters, integers etc.  \n",
    "Things to remember:\n",
    "* Integers in Python3 are unbounded--the maximum integer representable is a function of available memory. The constant sys.maxsize can be used to find the word-size; specifically, it's the maximum value integer that can be stored in the word. Eg: 2**63-1 on a 64-bit machine.\n",
    "* Bounds on floats are specified in the sys.float_info.\n",
    "* Bit-wise operators  \n",
    "|OPERATOR|DESCRIPTION|SYNTAX|OUTPUT|\n",
    "|---|---|---|---|\n",
    "|&|Bitwise AND|x&y|Returns 1 if both the bits are 1 else 0|\n",
    "|\\||Bitwise OR|x\\|y|Returns 1 if one of the bits is 1 else 0 |\n",
    "|~|Bitwise NOT|~x|Returns 1 if x=0 and vice versa|\n",
    "|^|Bitwise XOR|^x|Returns 1 if one of the bit is 1 and other is 0 else returns false|\n",
    "|>>|Bitwise Right Shift|>>x|Shifts the bits of the number to the right and fills 0 on voids left as a result. Similar effect as of dividing the number with some power of two|\n",
    "|<<|Bitwise Left Shift|<<x|Shifts the bits of the number to the left and fills 0 on voids left as a result. Similar effect as of multiplying the number with some power of two.|"
   ]
  },
  {
   "cell_type": "code",
   "execution_count": 2,
   "metadata": {},
   "outputs": [],
   "source": []
  },
  {
   "cell_type": "code",
   "execution_count": null,
   "metadata": {},
   "outputs": [],
   "source": []
  },
  {
   "cell_type": "code",
   "execution_count": null,
   "metadata": {},
   "outputs": [],
   "source": []
  },
  {
   "cell_type": "markdown",
   "metadata": {},
   "source": [
    "#### Question 1:  Count the number of bits that are set to 1 in a positive integer "
   ]
  },
  {
   "cell_type": "code",
   "execution_count": null,
   "metadata": {},
   "outputs": [],
   "source": []
  }
 ],
 "metadata": {
  "kernelspec": {
   "display_name": "Python 3",
   "language": "python",
   "name": "python3"
  },
  "language_info": {
   "codemirror_mode": {
    "name": "ipython",
    "version": 3
   },
   "file_extension": ".py",
   "mimetype": "text/x-python",
   "name": "python",
   "nbconvert_exporter": "python",
   "pygments_lexer": "ipython3",
   "version": "3.7.4"
  }
 },
 "nbformat": 4,
 "nbformat_minor": 4
}
